{
 "cells": [
  {
   "cell_type": "code",
   "execution_count": 102,
   "metadata": {},
   "outputs": [],
   "source": [
    "# work.ipynb: Ingest the Mt. Rainier (Paradise) annual snow total and make a plot\n",
    "#\n",
    "# Todd MItchell, February 2022"
   ]
  },
  {
   "cell_type": "code",
   "execution_count": 1,
   "metadata": {},
   "outputs": [],
   "source": [
    "import numpy as np\n",
    "import matplotlib.pyplot as plt\n",
    "plt.interactive(True)\n",
    "# You need the following line, '%matplotlib inline', to display figures in\n",
    "# jupyter notebooks.  You get an error message if you omit it and try to\n",
    "# plot a figure.\n",
    "# %matplotlib  inline \n",
    "\n",
    "import sys\n",
    "sys.path.insert( 0, '/Users/mitchell/Documents/PYTHON/modules/mitchell/' )\n",
    "import tpm\n",
    "dir( tpm ) # tells you what functions are in the module\n",
    "\n",
    "import pandas as pd"
   ]
  },
  {
   "cell_type": "code",
   "execution_count": 2,
   "metadata": {},
   "outputs": [
    {
     "data": {
      "text/plain": [
       "['__builtins__',\n",
       " '__cached__',\n",
       " '__doc__',\n",
       " '__file__',\n",
       " '__loader__',\n",
       " '__name__',\n",
       " '__package__',\n",
       " '__spec__',\n",
       " 'anomalies',\n",
       " 'arclength',\n",
       " 'fill_year',\n",
       " 'find_latlon',\n",
       " 'plot_vertical_lines',\n",
       " 'space_longitudes',\n",
       " 'threetotwo',\n",
       " 'time_shift',\n",
       " 'write_ts',\n",
       " 'yearsmonths',\n",
       " 'yearsmonthsdays']"
      ]
     },
     "execution_count": 2,
     "metadata": {},
     "output_type": "execute_result"
    }
   ],
   "source": [
    "dir(tpm)"
   ]
  },
  {
   "cell_type": "code",
   "execution_count": 2,
   "metadata": {},
   "outputs": [
    {
     "name": "stdout",
     "output_type": "stream",
     "text": [
      "total 256\r\n",
      "-rw-r--r--@ 1 mitchell  staff   1463 Aug 17 20:50 snowmtrainierann19212022\r\n",
      "-rw-r--r--  1 mitchell  staff  29339 Feb 20 22:59 work.ipynb\r\n",
      "-rw-r--r--  1 mitchell  staff    300 Feb 20 22:53 README\r\n",
      "-rw-r--r--@ 1 mitchell  staff  74603 Feb 20 22:48 snowmtrainierjulytojunetotal19212021.png\r\n",
      "-rw-r--r--@ 1 mitchell  staff   1086 Feb 20 21:27 snowmtrainierjulytojunetotal19212021.csv\r\n",
      "-rw-r--r--  1 mitchell  staff    161 Feb 18 14:33 README~\r\n",
      "-rw-r--r--@ 1 mitchell  staff   1449 Feb 18 14:20 snowmtrainierann19212021~\r\n"
     ]
    }
   ],
   "source": [
    "!ls -lt"
   ]
  },
  {
   "cell_type": "code",
   "execution_count": 15,
   "metadata": {},
   "outputs": [],
   "source": [
    "with open( 'snowmtrainierann19212022', 'r' ) as f:\n",
    "    a = f.readlines()"
   ]
  },
  {
   "cell_type": "code",
   "execution_count": 4,
   "metadata": {},
   "outputs": [
    {
     "data": {
      "text/plain": [
       "['Mt Rainier 12-month snowfall (July through June) in inches\\n',\n",
       " 'https://www.nps.gov/mora/planyourvisit/annual-snowfall-totals.htm\\n',\n",
       " '1920-21: 671\\n',\n",
       " '1921-22: 723\\n',\n",
       " '1922-23: 565\\n',\n",
       " '1923-24: 551\\n',\n",
       " '1924-25: 674\\n',\n",
       " '1925-26: 373\\n',\n",
       " '1926-27: 588\\n',\n",
       " '1927-28: 405\\n',\n",
       " '1928-29: 554\\n',\n",
       " '1929-30: 390\\n',\n",
       " '1930-31: 444\\n',\n",
       " '1931-32: 751\\n',\n",
       " '1932-33: 624\\n',\n",
       " '1933-34: 316\\n',\n",
       " '1934-35: 543\\n',\n",
       " '1935-36: 605\\n',\n",
       " '1936-37: 693\\n',\n",
       " '1937-38: 511\\n',\n",
       " '1938-39: 573\\n',\n",
       " '1939-40: 313\\n',\n",
       " '1940-41: 529\\n',\n",
       " '1941-42: 446\\n',\n",
       " '1942-43: 529\\n',\n",
       " '1943-44: NaN\\n',\n",
       " '1944-45: NaN\\n',\n",
       " '1945-46: NaN\\n',\n",
       " '1946-47: 529\\n',\n",
       " '1947-48: 661\\n',\n",
       " '1948-49: NaN\\n',\n",
       " '1949-50: NaN\\n',\n",
       " '1950-51: NaN\\n',\n",
       " '1951-52: NaN\\n',\n",
       " '1952-53: NaN\\n',\n",
       " '1953-54: NaN\\n',\n",
       " '1954-55: 788\\n',\n",
       " '1955-56: 1,000\\n',\n",
       " '1956-57: 619\\n',\n",
       " '1957-58: 602\\n',\n",
       " '1958-59: 646\\n',\n",
       " '1959-60: 564\\n',\n",
       " '1960-61: 685\\n',\n",
       " '1961-62: 545\\n',\n",
       " '1962-63: 452\\n',\n",
       " '1963-64: 429\\n',\n",
       " '1964-65: 538\\n',\n",
       " '1965-66: 583\\n',\n",
       " '1966-67: 692\\n',\n",
       " '1967-68: 502\\n',\n",
       " '1968-69: 829\\n',\n",
       " '1969-70: 649\\n',\n",
       " '1970-71: 884\\n',\n",
       " '1971-72: 1,122\\n',\n",
       " '1972-73: 577\\n',\n",
       " '1973-74: 1,070\\n',\n",
       " '1974-75: 820\\n',\n",
       " '1975-76: 858\\n',\n",
       " '1976-77: 414\\n',\n",
       " '1977-78: 598\\n',\n",
       " '1978-79: 583\\n',\n",
       " '1979-80: 645\\n',\n",
       " '1980-81: 460\\n',\n",
       " '1981-82: 779\\n',\n",
       " '1982-83: 681\\n',\n",
       " '1983-84: 727\\n',\n",
       " '1984-85: 711\\n',\n",
       " '1985-86: 589\\n',\n",
       " '1986-87: 574\\n',\n",
       " '1987-88: 626\\n',\n",
       " '1988-89: 755\\n',\n",
       " '1989-90: 723\\n',\n",
       " '1990-91: 725\\n',\n",
       " '1991-92: 499\\n',\n",
       " '1992-93: 550\\n',\n",
       " '1993-94: 593\\n',\n",
       " '1994-95: 732\\n',\n",
       " '1995-96: 658\\n',\n",
       " '1996-97: 938\\n',\n",
       " '1997-98: 674\\n',\n",
       " '1998-99: 1,032.5\\n',\n",
       " '1999-2000: 753\\n',\n",
       " '2000-01: 491\\n',\n",
       " '2001-02: 837\\n',\n",
       " '2002-03: 575\\n',\n",
       " '2003-04: 674\\n',\n",
       " '2004-05: 409\\n',\n",
       " '2005-06: 758\\n',\n",
       " '2006-07: 665\\n',\n",
       " '2007-08: 947\\n',\n",
       " '2008-09: 734\\n',\n",
       " '2009-10: 609\\n',\n",
       " '2010-11: 907\\n',\n",
       " '2011-12: 698\\n',\n",
       " '2012-13: 741\\n',\n",
       " '2013-14: 590\\n',\n",
       " '2014-15: 266\\n',\n",
       " '2015-16: 698\\n',\n",
       " '2016-17: 703\\n',\n",
       " '2017-18: 738\\n',\n",
       " '2018-19: 543\\n',\n",
       " '2019-20: 530\\n',\n",
       " '2020-21: 672\\n',\n",
       " '2021-22: 708\\n']"
      ]
     },
     "execution_count": 4,
     "metadata": {},
     "output_type": "execute_result"
    }
   ],
   "source": [
    "a"
   ]
  },
  {
   "cell_type": "code",
   "execution_count": 18,
   "metadata": {},
   "outputs": [
    {
     "data": {
      "text/plain": [
       "102"
      ]
     },
     "execution_count": 18,
     "metadata": {},
     "output_type": "execute_result"
    }
   ],
   "source": [
    "# Get rid of the first 2 lines of metadata\n",
    "a = a[2:]\n",
    "len(a)"
   ]
  },
  {
   "cell_type": "code",
   "execution_count": 21,
   "metadata": {},
   "outputs": [
    {
     "data": {
      "text/html": [
       "<div>\n",
       "<style scoped>\n",
       "    .dataframe tbody tr th:only-of-type {\n",
       "        vertical-align: middle;\n",
       "    }\n",
       "\n",
       "    .dataframe tbody tr th {\n",
       "        vertical-align: top;\n",
       "    }\n",
       "\n",
       "    .dataframe thead th {\n",
       "        text-align: right;\n",
       "    }\n",
       "</style>\n",
       "<table border=\"1\" class=\"dataframe\">\n",
       "  <thead>\n",
       "    <tr style=\"text-align: right;\">\n",
       "      <th></th>\n",
       "      <th>Year</th>\n",
       "      <th>Total (in)</th>\n",
       "    </tr>\n",
       "  </thead>\n",
       "  <tbody>\n",
       "    <tr>\n",
       "      <th>27</th>\n",
       "      <td>1948</td>\n",
       "      <td>661.0</td>\n",
       "    </tr>\n",
       "    <tr>\n",
       "      <th>28</th>\n",
       "      <td>1949</td>\n",
       "      <td>NaN</td>\n",
       "    </tr>\n",
       "    <tr>\n",
       "      <th>29</th>\n",
       "      <td>1950</td>\n",
       "      <td>NaN</td>\n",
       "    </tr>\n",
       "    <tr>\n",
       "      <th>30</th>\n",
       "      <td>1951</td>\n",
       "      <td>NaN</td>\n",
       "    </tr>\n",
       "    <tr>\n",
       "      <th>31</th>\n",
       "      <td>1952</td>\n",
       "      <td>NaN</td>\n",
       "    </tr>\n",
       "    <tr>\n",
       "      <th>...</th>\n",
       "      <td>...</td>\n",
       "      <td>...</td>\n",
       "    </tr>\n",
       "    <tr>\n",
       "      <th>97</th>\n",
       "      <td>2018</td>\n",
       "      <td>738.0</td>\n",
       "    </tr>\n",
       "    <tr>\n",
       "      <th>98</th>\n",
       "      <td>2019</td>\n",
       "      <td>543.0</td>\n",
       "    </tr>\n",
       "    <tr>\n",
       "      <th>99</th>\n",
       "      <td>2020</td>\n",
       "      <td>530.0</td>\n",
       "    </tr>\n",
       "    <tr>\n",
       "      <th>100</th>\n",
       "      <td>2021</td>\n",
       "      <td>672.0</td>\n",
       "    </tr>\n",
       "    <tr>\n",
       "      <th>101</th>\n",
       "      <td>2022</td>\n",
       "      <td>708.0</td>\n",
       "    </tr>\n",
       "  </tbody>\n",
       "</table>\n",
       "<p>75 rows × 2 columns</p>\n",
       "</div>"
      ],
      "text/plain": [
       "     Year  Total (in)\n",
       "27   1948       661.0\n",
       "28   1949         NaN\n",
       "29   1950         NaN\n",
       "30   1951         NaN\n",
       "31   1952         NaN\n",
       "..    ...         ...\n",
       "97   2018       738.0\n",
       "98   2019       543.0\n",
       "99   2020       530.0\n",
       "100  2021       672.0\n",
       "101  2022       708.0\n",
       "\n",
       "[75 rows x 2 columns]"
      ]
     },
     "execution_count": 21,
     "metadata": {},
     "output_type": "execute_result"
    }
   ],
   "source": [
    "# Write the data into a dataframe\n",
    "data = []\n",
    "for icnt in np.arange( len(a) ):\n",
    "    syear, svalue = a[icnt].strip('\\n').split(':')\n",
    "    year = int( syear[:4] ) + 1\n",
    "    value = np.nan\n",
    "    if svalue != ' NaN':\n",
    "        value = float(svalue.replace( ',', '' ))\n",
    "    data.append([ year, value ])\n",
    "df = pd.DataFrame(data, columns=['Year', 'Total (in)' ] )\n",
    "df.loc[df['Year']>=1948,:]"
   ]
  },
  {
   "cell_type": "code",
   "execution_count": 22,
   "metadata": {},
   "outputs": [],
   "source": [
    "df.to_csv( 'snowmtrainierjulytojunetotal19212022.csv', index=False )"
   ]
  },
  {
   "cell_type": "code",
   "execution_count": 23,
   "metadata": {},
   "outputs": [
    {
     "data": {
      "text/plain": [
       "23    1944\n",
       "24    1945\n",
       "25    1946\n",
       "28    1949\n",
       "29    1950\n",
       "30    1951\n",
       "31    1952\n",
       "32    1953\n",
       "33    1954\n",
       "Name: Year, dtype: int64"
      ]
     },
     "execution_count": 23,
     "metadata": {},
     "output_type": "execute_result"
    }
   ],
   "source": [
    "# Identify the years with no data\n",
    "df.loc[np.where( np.isnan(df['Total (in)']) )[0],'Year']"
   ]
  },
  {
   "cell_type": "code",
   "execution_count": 46,
   "metadata": {},
   "outputs": [
    {
     "name": "stdout",
     "output_type": "stream",
     "text": [
      "(1914.75, 2030.25)\n"
     ]
    },
    {
     "data": {
      "text/plain": [
       "<Figure size 432x288 with 0 Axes>"
      ]
     },
     "metadata": {},
     "output_type": "display_data"
    },
    {
     "data": {
      "image/png": "[encoded data removed]",
      "text/plain": [
       "<Figure size 432x288 with 1 Axes>"
      ]
     },
     "metadata": {
      "needs_background": "light"
     },
     "output_type": "display_data"
    }
   ],
   "source": [
    "# Make a plot\n",
    "plt.clf()\n",
    "fig, ax = plt.subplots()\n",
    "plt.bar( df['Year'], df['Total (in)']*2.54/100, zorder=10 )\n",
    "# ax.set_aspect(10)   # Set the aspect ratio\n",
    "plt.gca().set_ylim( ( -0.5, 31 ))\n",
    "plt.title( r'Paradise, Mt. Rainier annual snowfall totals (m) 1921-2022' '\\n'\n",
    "           r'July to June totals ascribed to the year of the January' )\n",
    "plt.ylabel( 'Total (m)')\n",
    "tpm.plot_vertical_lines( np.arange( 1920, 2030, 5 ), ( 0, 30 ), zorder=0 )\n",
    "plt.text( np.mean( plt.gca().get_xlim() ), -5, \\\n",
    "         'National Park Service data; No observations for 1944-46, 1949-1954', ha='center' )\n",
    "plt.text( 1920, 29, 'First Climate Analyses', fontsize=5 )  # My branding\n",
    "plt.savefig( 'snowmtrainierjulytojunetotal19212022.png', dpi=300 )\n",
    "plt.show()"
   ]
  },
  {
   "cell_type": "code",
   "execution_count": null,
   "metadata": {},
   "outputs": [],
   "source": []
  }
 ],
 "metadata": {
  "kernelspec": {
   "display_name": "Python 3 (ipykernel)",
   "language": "python",
   "name": "python3"
  },
  "language_info": {
   "codemirror_mode": {
    "name": "ipython",
    "version": 3
   },
   "file_extension": ".py",
   "mimetype": "text/x-python",
   "name": "python",
   "nbconvert_exporter": "python",
   "pygments_lexer": "ipython3",
   "version": "3.9.12"
  }
 },
 "nbformat": 4,
 "nbformat_minor": 4
}
